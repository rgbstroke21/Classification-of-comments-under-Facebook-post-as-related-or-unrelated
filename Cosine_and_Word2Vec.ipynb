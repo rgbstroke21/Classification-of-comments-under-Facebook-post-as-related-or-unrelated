{
 "cells": [
  {
   "cell_type": "code",
   "execution_count": 30,
   "id": "buried-hydrogen",
   "metadata": {},
   "outputs": [],
   "source": [
    "import json\n",
    "import re\n",
    "import nltk\n",
    "from nltk.tokenize import word_tokenize\n",
    "from nltk.stem import PorterStemmer\n",
    "from nltk.tokenize import sent_tokenize, word_tokenize\n",
    "from nltk.stem import WordNetLemmatizer\n",
    "from nltk.corpus import stopwords\n",
    "from nltk.tokenize import word_tokenize\n",
    "import numpy as np\n",
    "from sklearn.feature_extraction.text import TfidfVectorizer \n",
    "from gensim.models.keyedvectors import KeyedVectors\n",
    "from gensim.models.doc2vec import TaggedDocument\n",
    "from keras.preprocessing.text import Tokenizer\n",
    "from keras.preprocessing.sequence import pad_sequences\n",
    "from gensim.models import Word2Vec\n",
    "import multiprocessing\n",
    "import time\n",
    "\n",
    "cores = multiprocessing.cpu_count()\n",
    "\n",
    "# import gensim\n",
    "# W2V_PATH=\"GoogleNews-vectors-negative300.bin.gz\"\n",
    "# model_w2v = gensim.models.KeyedVectors.load_word2vec_format(W2V_PATH, binary=True)"
   ]
  },
  {
   "cell_type": "code",
   "execution_count": 2,
   "id": "reduced-flush",
   "metadata": {},
   "outputs": [],
   "source": [
    "caption_comments_replies = open(\"FaceBook Scrapper/Dataset.json\")"
   ]
  },
  {
   "cell_type": "code",
   "execution_count": 3,
   "id": "special-usage",
   "metadata": {},
   "outputs": [],
   "source": [
    "caption_comments_replies = json.load(caption_comments_replies)"
   ]
  },
  {
   "cell_type": "code",
   "execution_count": 4,
   "id": "returning-reflection",
   "metadata": {},
   "outputs": [],
   "source": [
    "def tokenization(text):\n",
    "    tokens = word_tokenize(text)\n",
    "    return tokens"
   ]
  },
  {
   "cell_type": "code",
   "execution_count": 5,
   "id": "surprising-memorial",
   "metadata": {},
   "outputs": [],
   "source": [
    "def Capitalization(text):\n",
    "    text=text.lower()\n",
    "    return text"
   ]
  },
  {
   "cell_type": "code",
   "execution_count": 6,
   "id": "adapted-conviction",
   "metadata": {},
   "outputs": [],
   "source": [
    "def remove_specail_chars(text):\n",
    "    text=' '.join(text)\n",
    "    tokenizer=nltk.RegexpTokenizer(r\"\\w+\")\n",
    "    text = tokenizer.tokenize(text)\n",
    "    return text"
   ]
  },
  {
   "cell_type": "code",
   "execution_count": 7,
   "id": "ordinary-mining",
   "metadata": {},
   "outputs": [],
   "source": [
    "def text_cleaner(text):\n",
    "    rules = [\n",
    "        {r'>\\s+': u'>'},  # remove spaces after a tag opens or closes\n",
    "        {r'\\s+': u' '},  # replace consecutive spaces\n",
    "        {r'\\s*<br\\s*/?>\\s*': u'\\n'},  # newline after a <br>\n",
    "        {r'</(div)\\s*>\\s*': u'\\n'},  # newline after </p> and </div> and <h1/>...\n",
    "        {r'</(p|h\\d)\\s*>\\s*': u'\\n\\n'},  # newline after </p> and </div> and <h1/>...\n",
    "        {r'<head>.*<\\s*(/head|body)[^>]*>': u''},  # remove <head> to </head>\n",
    "        {r'<a\\s+href=\"([^\"]+)\"[^>]*>.*</a>': r'\\1'},  # show links instead of texts\n",
    "        {r'[ \\t]*<[^<]*?/?>': u''},  # remove remaining tags\n",
    "        {r'^\\s+': u''}  # remove spaces at the beginning\n",
    "    ]\n",
    "    for rule in rules:\n",
    "        for (k, v) in rule.items():\n",
    "            regex = re.compile(k)\n",
    "            text = regex.sub(v, text)\n",
    "            text=re.sub('https://[^ ]+','<link>',text)\n",
    "            text=re.sub('http://[^ ]+','<link>',text)\n",
    "            text=re.sub('@[^ ]+','<username>',text)\n",
    "            text=re.sub('#[^ ]+','<hashtag>',text)\n",
    "    text = text.rstrip()\n",
    "    return Capitalization(text)"
   ]
  },
  {
   "cell_type": "code",
   "execution_count": 8,
   "id": "affecting-quebec",
   "metadata": {},
   "outputs": [],
   "source": [
    "def Lemmatizing(filtered_sentence):\n",
    "    \n",
    "    filtered_sentence=remove_specail_chars(filtered_sentence)\n",
    "    lemmatizer = WordNetLemmatizer()\n",
    "    \n",
    "    stemmed_Lemmatized_text=[]\n",
    "\n",
    "    for word in filtered_sentence:\n",
    "        word=lemmatizer.lemmatize(word)\n",
    "        stemmed_Lemmatized_text.append(word)\n",
    "        \n",
    "    return stemmed_Lemmatized_text"
   ]
  },
  {
   "cell_type": "code",
   "execution_count": 9,
   "id": "favorite-savannah",
   "metadata": {},
   "outputs": [],
   "source": [
    "def remove_stopwords(text):\n",
    "\n",
    "    stop_words = set(stopwords.words('english'))\n",
    "    \n",
    "    cleaned_text=text_cleaner(text)\n",
    "    \n",
    "    word_tokens = tokenization(cleaned_text)\n",
    "\n",
    "    filtered_sentence = [w for w in word_tokens if not w in stop_words]\n",
    "\n",
    "    filtered_sentence = []\n",
    "\n",
    "    for w in word_tokens:\n",
    "        if w not in stop_words:\n",
    "            filtered_sentence.append(w)\n",
    "            \n",
    "    filtered_sentence=Lemmatizing(filtered_sentence)\n",
    "    \n",
    "    filtered_sentenc=remove_specail_chars(filtered_sentence)\n",
    "\n",
    "    return filtered_sentence\n",
    "    "
   ]
  },
  {
   "cell_type": "code",
   "execution_count": 10,
   "id": "exact-germany",
   "metadata": {},
   "outputs": [],
   "source": [
    "def Cosine_Similarity(document_1,document_2,N):\n",
    "    \n",
    "    numerator = 0\n",
    "    \n",
    "    mod_x = 0\n",
    "    mod_y = 0\n",
    "    \n",
    "    for i in range(N):\n",
    "        numerator += document_1[i]*document_2[i]\n",
    "        mod_x += document_1[i]**2\n",
    "        mod_y += document_2[i]**2\n",
    "    \n",
    "    denominator = mod_x**(1/2) * mod_y**(1/2)\n",
    "    \n",
    "    if denominator==0:\n",
    "        return 0\n",
    "\n",
    "    Cosine_similarity = numerator/denominator\n",
    "    \n",
    "    return Cosine_similarity"
   ]
  },
  {
   "cell_type": "code",
   "execution_count": 11,
   "id": "piano-wells",
   "metadata": {},
   "outputs": [],
   "source": [
    "def calculate_cosine_similarity(caption_index,documents):\n",
    "    \n",
    "\n",
    "    tfidfvectoriser = TfidfVectorizer()\n",
    "    tfidf_vectors = tfidfvectoriser.fit_transform(documents)\n",
    "\n",
    "    vector = tfidf_vectors.toarray()\n",
    "\n",
    "    cosine_similarity = {}\n",
    "    \n",
    "    for i in range(len(vector)):\n",
    "        \n",
    "        cosine_similarity[i] = Cosine_Similarity(vector[0],vector[i],len(vector[0]))\n",
    "\n",
    "    document_cosine_similarity[caption_index] = dict(sorted(cosine_similarity.items(), \n",
    "                                                            key = lambda item: item[1],reverse = True))"
   ]
  },
  {
   "cell_type": "code",
   "execution_count": 12,
   "id": "adapted-palmer",
   "metadata": {},
   "outputs": [],
   "source": [
    "def get_captions_and_comments(index):\n",
    "    \n",
    "    caption = caption_comments_replies[index]['content']\n",
    "    comments = caption_comments_replies[index]['comments_and_replies']\n",
    "    \n",
    "    return caption,comments"
   ]
  },
  {
   "cell_type": "code",
   "execution_count": null,
   "id": "sitting-shareware",
   "metadata": {},
   "outputs": [],
   "source": []
  },
  {
   "cell_type": "code",
   "execution_count": 13,
   "id": "nuclear-wrist",
   "metadata": {
    "scrolled": true
   },
   "outputs": [
    {
     "name": "stdout",
     "output_type": "stream",
     "text": [
      "0  Done\n",
      "1  Done\n",
      "2  Done\n",
      "3  Done\n",
      "4  Done\n",
      "5  Done\n",
      "6  Done\n",
      "7  Done\n",
      "8  Done\n",
      "9  Done\n",
      "10  Done\n",
      "11  Done\n",
      "12  Done\n",
      "13  Done\n",
      "14  Done\n",
      "15  Done\n",
      "16  Done\n",
      "17  Done\n",
      "18  Done\n",
      "19  Done\n",
      "20  Done\n",
      "21  Done\n",
      "22  Done\n",
      "23  Done\n",
      "24  Done\n",
      "25  Done\n",
      "26  Done\n",
      "27  Done\n",
      "28  Done\n",
      "29  Done\n",
      "30  Done\n",
      "31  Done\n",
      "32  Done\n",
      "33  Done\n",
      "34  Done\n",
      "35  Done\n",
      "36  Done\n",
      "37  Done\n",
      "38  Done\n",
      "39  Done\n",
      "40  Done\n",
      "41  Done\n",
      "42  Done\n",
      "43  Done\n",
      "44  Done\n",
      "45  Done\n",
      "46  Done\n",
      "47  Done\n",
      "48  Done\n",
      "49  Done\n",
      "50  Done\n",
      "51  Done\n",
      "52  Done\n"
     ]
    }
   ],
   "source": [
    "document_cosine_similarity = {}\n",
    "\n",
    "all_captions_and_comments = []\n",
    "\n",
    "def iterate_all_captions_and_comments():\n",
    "    \n",
    "    for index in range(len(caption_comments_replies)):\n",
    "        \n",
    "        caption,comments = get_captions_and_comments(index)\n",
    "        \n",
    "        all_comments_and_relpies=[]\n",
    "\n",
    "        for i in comments:\n",
    "            \n",
    "            all_comments_and_relpies.append(i['comment'])\n",
    "            \n",
    "            for j in i['replies']:\n",
    "                \n",
    "                all_comments_and_relpies.extend((list(j.values())))\n",
    "        \n",
    "        documents=[]\n",
    "        \n",
    "        filtered_caption=remove_stopwords(caption)\n",
    "        \n",
    "        documents.append(' '.join(filtered_caption))\n",
    "        \n",
    "        filtered_comments=[]\n",
    "        \n",
    "        for each_comment in all_comments_and_relpies:\n",
    "            filtered_comments.append(remove_stopwords(each_comment))\n",
    "        \n",
    "        for each_filtered_comment in filtered_comments:\n",
    "            documents.append(' '.join(each_filtered_comment))\n",
    "            \n",
    "        \n",
    "        calculate_cosine_similarity(index,documents)\n",
    "        \n",
    "        all_captions_and_comments.append(documents)\n",
    "        \n",
    "        print(index,\" Done\")\n",
    "        \n",
    "        \n",
    "iterate_all_captions_and_comments()"
   ]
  },
  {
   "cell_type": "code",
   "execution_count": 14,
   "id": "spectacular-flower",
   "metadata": {
    "scrolled": false
   },
   "outputs": [],
   "source": [
    "def print_result():\n",
    "    for index,caption_and_comments in document_cosine_similarity.items():\n",
    "        \n",
    "        print(\"Caption : {}\\n\".format(all_captions_and_comments[index][0]))\n",
    "        \n",
    "        for caption_index in list(caption_and_comments.keys()):\n",
    "            \n",
    "            print(\"{} : {}\\n\".format(all_captions_and_comments[index][caption_index],\n",
    "                                   document_cosine_similarity[index][caption_index]))\n",
    "        print('\\n******************************************************************\\n')"
   ]
  },
  {
   "cell_type": "code",
   "execution_count": 62,
   "id": "exact-sensitivity",
   "metadata": {
    "scrolled": false
   },
   "outputs": [],
   "source": [
    "words = []\n",
    "\n",
    "all_captions_and_comments_dict = {}\n",
    "\n",
    "for i in range(len(all_captions_and_comments)):\n",
    "    \n",
    "    temp_list = []\n",
    "    \n",
    "    for j in all_captions_and_comments[i]:\n",
    "        \n",
    "        words.append(j.split())\n",
    "        \n",
    "        temp_list.append(j.split())\n",
    "        \n",
    "    all_captions_and_comments_dict[i] = temp_list"
   ]
  },
  {
   "cell_type": "code",
   "execution_count": 28,
   "id": "exempt-worship",
   "metadata": {},
   "outputs": [],
   "source": [
    "def train_w2v(w2v_df):\n",
    "    \n",
    "    w2v_model = Word2Vec(min_count = 1,\n",
    "                         window = 4,\n",
    "                         size = 300, \n",
    "                         alpha = 0.03, \n",
    "                         min_alpha = 0.0007, \n",
    "                         sg = 1,\n",
    "                         workers = cores-1)\n",
    "    \n",
    "    w2v_model.build_vocab(w2v_df, progress_per = 10000)\n",
    "    w2v_model.train(w2v_df, total_examples = w2v_model.corpus_count, epochs = 100, report_delay = 1)\n",
    "    return w2v_model"
   ]
  },
  {
   "cell_type": "code",
   "execution_count": 31,
   "id": "nutritional-brighton",
   "metadata": {
    "scrolled": true
   },
   "outputs": [
    {
     "name": "stdout",
     "output_type": "stream",
     "text": [
      "Execution Time in seconds : 57.589138984680176\n"
     ]
    }
   ],
   "source": [
    "start_time = time.time()\n",
    "\n",
    "w2v_model = train_w2v(words)\n",
    "\n",
    "end_time = time.time()\n",
    "\n",
    "print(\"Execution Time in seconds : {}\".format(end_time-start_time))"
   ]
  },
  {
   "cell_type": "code",
   "execution_count": 32,
   "id": "characteristic-keyboard",
   "metadata": {},
   "outputs": [
    {
     "name": "stdout",
     "output_type": "stream",
     "text": [
      "[('noise', 0.5119937658309937), ('assuredly', 0.5000365972518921), ('boringness', 0.4954816997051239), ('akin', 0.495316743850708), ('mutilated', 0.48628294467926025), ('boredom', 0.4857534170150757), ('nine', 0.4738732576370239), ('hol', 0.4715283215045929), ('lifeguard', 0.46482184529304504), ('craziest', 0.45724788308143616)]\n"
     ]
    }
   ],
   "source": [
    "print(w2v_model.wv.most_similar('ten'))"
   ]
  },
  {
   "cell_type": "code",
   "execution_count": 33,
   "id": "knowing-frederick",
   "metadata": {},
   "outputs": [
    {
     "data": {
      "text/plain": [
       "array([-2.12201718e-02, -4.83483039e-02, -9.51807201e-02,  2.64880389e-01,\n",
       "        3.03841174e-01, -1.32370427e-01,  3.85881364e-01,  7.51205087e-01,\n",
       "       -1.89196184e-01, -7.82734677e-02,  2.76383787e-01, -2.08512962e-01,\n",
       "       -5.67459583e-01,  3.21848929e-01,  6.24212101e-02,  9.69878286e-02,\n",
       "        3.43349218e-01, -5.44821024e-01, -1.20351113e-01, -1.70302778e-01,\n",
       "        1.58805907e-01,  7.87084639e-01, -4.47963387e-01, -2.03970447e-01,\n",
       "       -4.06556129e-01, -1.79679736e-01,  8.99469674e-01,  5.17007709e-01,\n",
       "       -1.30802423e-01, -5.26438355e-02, -4.10433203e-01, -7.60870501e-02,\n",
       "       -2.98770100e-01, -2.50768065e-01,  1.49919419e-02, -1.31425440e-01,\n",
       "       -4.27628696e-01, -6.47646308e-01,  3.18104446e-01, -7.17146218e-01,\n",
       "        2.59898305e-01, -2.37030238e-01,  3.96885455e-01, -5.14332116e-01,\n",
       "        2.19229460e-01, -2.79967695e-01, -5.59937179e-01,  3.38063061e-01,\n",
       "       -9.21291590e-01, -2.99841076e-01,  9.17463377e-03,  1.57968879e-01,\n",
       "       -3.59685361e-01,  3.18798631e-01, -1.49411812e-01, -3.01127061e-02,\n",
       "        1.99429318e-01,  6.34448647e-01, -9.80783552e-02,  2.42227465e-01,\n",
       "        6.22357666e-01, -4.98592615e-01,  4.63382035e-01,  1.72656238e-01,\n",
       "       -8.27066451e-02, -5.08125611e-02, -7.87741244e-01, -2.68328071e-01,\n",
       "        3.17661725e-02, -3.39990947e-03, -3.40853818e-02,  6.96383238e-01,\n",
       "       -1.16417892e-02, -1.71050370e-01,  2.77594030e-01,  1.92863271e-01,\n",
       "       -2.53558010e-01, -6.15272164e-01, -4.01265353e-01, -1.68097783e-02,\n",
       "       -1.57750294e-01,  1.35734051e-01,  4.43518519e-01, -4.64363992e-02,\n",
       "        3.41350958e-02,  5.81120662e-02, -4.64920908e-01, -1.20049246e-01,\n",
       "        2.59715617e-01,  9.07006953e-03, -1.78396419e-01, -8.71686101e-01,\n",
       "       -6.96473643e-02, -6.57127976e-01,  9.48232338e-02, -6.39917970e-01,\n",
       "       -4.15528893e-01, -4.72690016e-02, -3.79809707e-01,  5.93375377e-02,\n",
       "        9.00316164e-02, -2.57734537e-01,  3.72881070e-02,  4.53109115e-01,\n",
       "        2.82200783e-01,  1.66716740e-01, -2.96484500e-01,  5.04233167e-02,\n",
       "       -2.75370218e-02, -1.48186600e-02,  4.67213929e-01, -3.82330306e-02,\n",
       "       -2.84796983e-01, -4.56157140e-02,  2.97417909e-01, -7.14326739e-01,\n",
       "        8.05789605e-02,  9.01629090e-01, -2.78250903e-01,  2.36579835e-01,\n",
       "       -8.16053003e-02, -1.03172064e-01, -3.47832173e-01,  9.19171691e-01,\n",
       "       -5.12490451e-01, -4.67429906e-01, -4.50166911e-02,  2.30226561e-01,\n",
       "       -2.16380998e-01,  3.56297433e-01,  2.36102324e-02, -5.17369926e-01,\n",
       "       -1.86401993e-01,  8.04183036e-02, -7.10211024e-02,  4.39822860e-02,\n",
       "       -1.27242875e+00, -1.32297084e-01,  1.11639604e-01,  5.25161982e-01,\n",
       "        6.78398609e-01, -1.97203666e-01, -3.58616143e-01,  8.22774887e-01,\n",
       "       -3.34583908e-01, -6.81892872e-01,  1.88542217e-01,  8.14080834e-02,\n",
       "       -5.04873931e-01,  1.64541379e-01,  1.17862493e-01, -1.60968434e-02,\n",
       "       -5.88954985e-02, -3.77084672e-01,  7.73151159e-01,  1.30766287e-01,\n",
       "        7.81822726e-02, -4.04760130e-02,  5.08521199e-01, -7.80426800e-01,\n",
       "        6.29508436e-01,  5.89757621e-01, -5.25064707e-01,  4.56777722e-01,\n",
       "       -4.45842206e-01,  4.94398549e-03, -1.76201370e-02,  6.00940645e-01,\n",
       "        4.36181009e-01,  2.55684137e-01, -2.15039656e-01,  2.31061086e-01,\n",
       "       -5.24202704e-01,  3.75699252e-01,  1.84014753e-01,  6.97837234e-01,\n",
       "        5.37256241e-01, -4.29419160e-01,  4.10729349e-01, -8.88946354e-01,\n",
       "        9.05103385e-02, -1.28074095e-01, -2.15948537e-01, -4.50293630e-01,\n",
       "       -5.56458533e-01,  3.33900869e-01,  2.41128087e-01,  9.06656533e-02,\n",
       "        2.18803182e-01,  1.26043022e-01,  8.60217988e-01,  1.09225780e-01,\n",
       "        1.33229895e-02, -3.42141181e-01, -4.00127977e-01,  1.65224925e-01,\n",
       "       -8.30722302e-02, -9.04579759e-01, -5.87266147e-01, -6.02625795e-02,\n",
       "        3.34700197e-01,  1.78722546e-01,  7.92506754e-01, -4.37281221e-01,\n",
       "        2.25459680e-01, -4.81164038e-01,  9.70940012e-03, -2.16990188e-01,\n",
       "        5.10395110e-01, -3.30071002e-01, -3.39719087e-01,  3.48492920e-01,\n",
       "        4.51077163e-01,  2.81581104e-01,  2.05959573e-01,  5.84666252e-01,\n",
       "       -4.66660917e-01, -1.84824452e-01, -2.75785737e-02, -5.45217991e-01,\n",
       "        2.65302658e-01,  5.67813218e-02, -4.11488205e-01, -4.15722936e-01,\n",
       "        1.23235211e-01,  1.70013025e-01, -4.55277920e-01, -4.54385251e-01,\n",
       "        1.61781505e-01,  3.28227282e-02, -5.34858629e-02,  3.34690183e-01,\n",
       "       -1.34344772e-01, -1.41909823e-01,  5.12965739e-01, -6.31897807e-01,\n",
       "        5.56872115e-02,  5.33559859e-01, -2.64279425e-01, -7.60345995e-01,\n",
       "       -4.65104342e-01, -7.99383521e-02,  2.04034951e-02, -6.66991174e-02,\n",
       "       -3.70021760e-01,  1.19154509e-02, -1.11699891e+00,  7.61118010e-02,\n",
       "       -5.13915122e-02, -9.18624830e-03,  1.99953243e-01,  4.33667421e-01,\n",
       "        6.47251979e-02, -2.98517287e-01,  8.29167217e-02, -8.32974613e-01,\n",
       "       -6.06542170e-01, -9.76093858e-02, -1.78717792e-01, -5.83104670e-01,\n",
       "        2.21001267e-01, -4.53870222e-02, -7.29830682e-01, -1.03519976e-01,\n",
       "       -5.04962057e-02, -4.70020026e-01, -1.37994558e-01, -2.01223478e-01,\n",
       "        1.46883041e-01,  3.62556204e-02, -6.17516115e-02,  1.52046382e-01,\n",
       "       -3.52384783e-02, -1.08087432e+00, -6.36793494e-01, -3.37153673e-01,\n",
       "        1.87201187e-01,  2.20491126e-01,  4.29673232e-02,  3.47911865e-02,\n",
       "       -1.49276033e-01,  2.19033405e-01,  3.35522413e-01, -8.18120539e-01,\n",
       "       -3.44338745e-01, -7.51274049e-01, -9.20316100e-01, -9.39129293e-02,\n",
       "       -7.78435409e-01,  1.73570693e-01,  5.89330256e-01, -1.16209895e-03,\n",
       "        2.11229041e-01,  9.37605143e-01, -5.34919230e-03,  2.38042578e-01,\n",
       "       -2.97495961e-01,  5.42262614e-01,  1.13715148e-02, -1.51563376e-01],\n",
       "      dtype=float32)"
      ]
     },
     "execution_count": 33,
     "metadata": {},
     "output_type": "execute_result"
    }
   ],
   "source": [
    "w2v_model.wv.get_vector('clothing')"
   ]
  },
  {
   "cell_type": "code",
   "execution_count": 68,
   "id": "standing-scholarship",
   "metadata": {
    "scrolled": false
   },
   "outputs": [
    {
     "name": "stdout",
     "output_type": "stream",
     "text": [
      "['nutrition', 'food', 'dropped', 'significantly', 'past', '70', 'year', 'happening', 'bbc', 'com', 'modern', 'food', 'regain', 'nutrient'] : 1.0\n",
      "['glad', 'husband', 'chose', 'live', 'part', 'family', 'farm', 'harvest', 'hay', 'chicken', 'turkey', 'get', 'kitchen', 'scrap', 'coffee', 'ground', 'egg', 'shell', 'composted', 'manure', 'go', 'garden', 'raise', 'steer', 'every', 'year', 'get', 'calf', 'born', 'milk', 'make', 'cheese', 'garden', 'grow', 'best', 'tasting', 'tomato', 'ton', 'work', 'husband', 'professional', 'career', 'investment', 'tractor', 'u', 'worth', 'quality', 'life', 'food', 'family'] : 0.6274495\n",
      "['top', 'soil', 'planet', 'depleted', 'amongst', 'thing', 'wish', 'could', 'buried', 'directly', 'ground', 'wooden', 'box', 'full', 'chemical', 'die', 'much', 'like', 'compost', 'farm'] : 0.58257043\n",
      "['maribela', 'ruano'] : 0.2540232\n",
      "['imagine', 'anybody', 'say', 'gmo'] : 0.42024666\n",
      "['jeff', 'davis', 'hi', 'jeff'] : 0.24653697\n",
      "['soil', 'depleted'] : 0.44483757\n",
      "['s', 'way', 'boomer', 'make', 'money', 'price', 'lesser', 'quality'] : 0.54231125\n",
      "['higher', 'cost', 'customer'] : 0.44419402\n",
      "['adam', 'arnouse', 'little', 'girly', 'millennials', 'like'] : 0.37605733\n",
      "['brittany', 'mckinney', 'lol'] : 0.26930964\n",
      "['paul', 'adam', 'nice', 'try'] : 0.3112752\n",
      "['adam', 'arnouse', 'first', 'boomer', 'comment', 'ever', 'agreed'] : 0.37046528\n",
      "['brittany', 'mckinney', 'youre', 'even', 'boomer'] : 0.36514464\n",
      "['gmos', 'mass', 'production'] : 0.4679367\n",
      "['yes', 'maybe', 'start', 'would', 'stop', 'blaming', 'people', 'eating', 'properly', 'even', 'n', 't', 'nutrient', 'level', 'soil', 'dropped', 'precipitously'] : 0.69167554\n",
      "['chris', 'snadow', 'hi', 'chris'] : 0.20659316\n",
      "['yes', 'agrochemicals'] : 0.2920656\n",
      "['tissa', 'buddhasiri', 'yeah', 'agree', 'right', 'truly', 'agrochemicals'] : 0.39075083\n",
      "['tissa', 'buddhasiri', 'article', 'scientist', 'feel', 'fall', 'nutrient', 'level', 'food', 'decade', 'small', 'significant', 'compared', 'increase', 'food', 'availability', 'provided', 'improved', 'yield'] : 0.7273125\n",
      "['look', 'michael', 'pollan', 's', 'work', 'll', 'learn', 'due', 'flower', 'used', 'many', 'product', 'real', 'nutritional', 'value', 'whole', 'wheat', 'spelt', 'flour', 'much', 'better', 'good', 'tip', 'stay', 'away', 'proceed', 'food', 'bake', 'home', 'spelt', 'flour', 'spelt', 'substituted', 'recipe', 'call', 'white', 'flour'] : 0.6456332\n",
      "['prof', 'genetically', 'changing', 'food', 'reduce', 'wasted', 'food', 'reducing', 'stopping', 'agricultural', 'process', 'avoid', 'contaminant', 'go', 'back', 'traditional', 'farming', 'farmer', 'know', 'land', 've', 'done', 'century', 'long', 'additive', 'need', 'input', 'governing', 'able', 'grow', 'veg', 'cattle'] : 0.6961764\n",
      "['article', 'scientist', 'feel', 'fall', 'nutrient', 'level', 'food', 'decade', 'small', 'significant', 'compared', 'increase', 'food', 'availability', 'provided', 'improved', 'yield'] : 0.73053503\n",
      "['gmo', 's', 'happened'] : 0.39332008\n",
      "['jaf', 'good', 'scammer', 'run', 'along'] : 0.3990105\n",
      "['genetically', 'modified', 'plant', 'animal', 'going', 'dangerous', 'future', 'dark', 'future', 'awaits'] : 0.4854532\n",
      "['likely', 'mostly', 'true'] : 0.36647367\n",
      "['laurence', 'king', 'course', 'dear'] : 0.38298398\n",
      "['fruit', 'vegetable', 'lost', 'aroma', 'flavour', 'even', '30', 'year', 'ago'] : 0.5504086\n",
      "['soil', 'modern', 'food', 'depleted'] : 0.7051208\n",
      "['garbage', 'garbage'] : 0.22454432\n",
      "['messed', 'food', 'altered', 'engineered', 'happens'] : 0.61571527\n",
      "['sarnia', 'helpe', 'even', 'water', 'messed'] : 0.48301122\n",
      "['machine', 'drug', 'hot', 'temperature'] : 0.40531632\n",
      "['grow', 'food'] : 0.5477736\n",
      "['food', 'referring'] : 0.55934834\n",
      "['s', 'happening', 'mass', 'production', 'quantity', 'quality'] : 0.61379516\n",
      "['judging', 'many', 'comment', 'lot', 'actually', 'read', 'article', 'lol'] : 0.43547112\n",
      "['david', 'simpson', 'yes', 're', 'right'] : 0.33500257\n",
      "['already', 'take', 'time'] : 0.34955323\n",
      "['gmo'] : 0.44511372\n",
      "['kerri', 'lawrence', 'lost', 'fund', 'crypto', 'know', 'someone', 're', 'issue', 'wallet', 'lost', 'money', 'crypto', 'company', 'reply', 'yes', 'll', 'assist'] : 0.46791464\n",
      "['cost', 'increasing', 'shelf', 'life'] : 0.46441546\n",
      "['end', 'rationing', 'rise', 'mass', 'production', 'answer', 'nutshell'] : 0.50026137\n",
      "['climate', 'change', 'correct', 'm', 'wrong'] : 0.4113051\n",
      "['almasri', 'alper', 'madjid', 'correct', 'idiot'] : 0.3891159\n",
      "['almasri', 'alper', 'madjid', 'wrong', 'soil', 'depleted', 'nutrient', 'anymore', 'use', 'chemical', 'fertilizer', 'n', 't', 'build', 'healthy', 'soil', 'compost', 'manure', 'mulch', 'build', 'soil', 'creates', 'vitamin', 'food'] : 0.62655663\n",
      "['stephanie', 'zeleny', 'article', 'scientist', 'feel', 'fall', 'nutrient', 'level', 'food', 'decade', 'small', 'significant', 'compared', 'increase', 'food', 'availability', 'provided', 'improved', 'yield'] : 0.7305009\n",
      "['happens', 'company', 'want', 'profit'] : 0.39501885\n",
      "['jaume', 'pershin', 'bingo', 'first', 'correct', 'answer'] : 0.38136554\n",
      "['jaume', 'pershin', 'tell', 'name', 'company', 'want', 'make', 'profit'] : 0.45953804\n",
      "['mike', 'muszynski', 'want', 'profit', 'use', 'dirty', 'way', 'get', 'also', 'many', 'monopoly', 'nowadays', 'consumer', 'stuck', 'product', 'company', 'exploit'] : 0.5423509\n",
      "['jaume', 'pershin', 'different', '1st', 'post', 'evidence', 'contributes', 'declining', 'nutrient'] : 0.51370835\n",
      "['easy', 'ask', 'montsantos'] : 0.3278937\n",
      "['wonder', 'skinny', 'ever', 'since', 'birth', 'bro', 'eat', 'everything', 'anything', 'taking', 'food', 'court'] : 0.6247772\n",
      "['farm', 'shelf', 'long'] : 0.4259361\n",
      "['fixing', 'unless', 'change', 'way', 'grow'] : 0.3856696\n",
      "['sbpinserbpiobse', 'nit', 'happens', 'company', 'want', 'profit'] : 0.4401223\n",
      "['s', 'known', 'since', '80', 'need', 'put', 'compost', 'soil', 'build', 'putting', 'chemical', 'nitrogen', 'soil', 'n', 't', 'help', 'need', 'compost', 'animal', 'manure'] : 0.6117547\n",
      "['nutritional', 'value', 'popular', 'vegetable', 'asparagus', 'spinach', 'dropped', 'significantly', 'since', '1950', '2004', 'u', 'study', 'found', 'important', 'nutrient', 'garden', 'crop', '38', 'lower', 'middle', '20th', 'century', 'similar', 'decrease', 'observed', 'nutrient', 'present', 'wheat'] : 0.73910177\n",
      "['michael', 'peyton', 'also', 'article', 'scientist', 'feel', 'fall', 'nutrient', 'level', 'food', 'decade', 'small', 'significant', 'compared', 'increase', 'food', 'availability', 'provided', 'improved', 'yield'] : 0.7377332\n",
      "['good', 'increasing', 'supply', 'decreasing', 'nutrition', 'one', 'ca', 'n', 't', 'consume', 'enough', 'carrot', 'replace', 'single', 'carrot', 'old', 'direction'] : 0.58176243\n",
      "['michael', 'peyton', 'total', 'content', 'nutrient', 'lower', 'due', 'higher', 'yield', 'mean', 'nutrient', 'deficient', 'diet', 'food', 'choice', 'available', 'almost', 'year', 'round', 'poor', 'food', 'choice', 'option', 'main', 'cause', 'poor', 'diet'] : 0.74959886\n",
      "['course', 'tax', 'fast', 'food', 'mean', 'nutrient', 'deficient', 'diet', 'death', 'arriving', 'earlier'] : 0.71360433\n",
      "['n', 't', 'laugh', 'etiquette', 'lacking'] : 0.3779342\n",
      "['grower', 'focused', 'transportabilit', 'long', 'shelf', 'life', 'eye', 'appeal', 'instead', 'nutrition'] : 0.5371178\n",
      "['alicia', 'ann', 'o', 'mara', 's', 'lack', 'nutrient', 'soil'] : 0.5812036\n",
      "['stephanie', 'zeleny'] : 0.3018672\n",
      "['import', 'original', 'food', 'africa', 'instead', 'closing', 'europe'] : 0.6445769\n",
      "['modern', 'food', 'full', 'chemical'] : 0.6599206\n",
      "['uk', 'convoy', 'coming', 'london', 'morning', 'shutting', 'm25', 'havny', 'seen', 'anything', 'news'] : 0.507026\n",
      "['different', 'cultivar', 'might', 'answer', 'fruit', 'vegetable', 'selected', 'shelf', 'life', 'nutritional', 'value'] : 0.48938334\n",
      "\n",
      "\n",
      "\n"
     ]
    }
   ],
   "source": [
    "index = 0\n",
    "\n",
    "for i in range(len(all_captions_and_comments)-52):\n",
    "    \n",
    "    caption = all_captions_and_comments_dict[i][0]\n",
    "    \n",
    "    for comment in all_captions_and_comments_dict[i]:\n",
    "        \n",
    "        if comment!=[]:\n",
    "            \n",
    "            print(comment,end=\" : \")\n",
    "            \n",
    "            print(w2v_model.wv.n_similarity(caption,comment))\n",
    "    \n",
    "    print(\"\\n\\n\")"
   ]
  },
  {
   "cell_type": "code",
   "execution_count": null,
   "id": "blind-television",
   "metadata": {
    "scrolled": false
   },
   "outputs": [],
   "source": []
  },
  {
   "cell_type": "code",
   "execution_count": null,
   "id": "positive-invitation",
   "metadata": {
    "scrolled": false
   },
   "outputs": [],
   "source": []
  },
  {
   "cell_type": "code",
   "execution_count": null,
   "id": "consolidated-fellow",
   "metadata": {},
   "outputs": [],
   "source": []
  },
  {
   "cell_type": "code",
   "execution_count": null,
   "id": "pursuant-marriage",
   "metadata": {},
   "outputs": [],
   "source": []
  },
  {
   "cell_type": "code",
   "execution_count": null,
   "id": "automatic-current",
   "metadata": {
    "scrolled": false
   },
   "outputs": [],
   "source": []
  },
  {
   "cell_type": "code",
   "execution_count": null,
   "id": "powered-disco",
   "metadata": {},
   "outputs": [],
   "source": []
  },
  {
   "cell_type": "code",
   "execution_count": null,
   "id": "chief-blues",
   "metadata": {},
   "outputs": [],
   "source": []
  },
  {
   "cell_type": "code",
   "execution_count": null,
   "id": "central-warrior",
   "metadata": {},
   "outputs": [],
   "source": []
  },
  {
   "cell_type": "code",
   "execution_count": null,
   "id": "optional-consumption",
   "metadata": {},
   "outputs": [],
   "source": []
  },
  {
   "cell_type": "code",
   "execution_count": null,
   "id": "thick-praise",
   "metadata": {},
   "outputs": [],
   "source": []
  },
  {
   "cell_type": "code",
   "execution_count": null,
   "id": "virgin-russian",
   "metadata": {},
   "outputs": [],
   "source": []
  },
  {
   "cell_type": "code",
   "execution_count": null,
   "id": "beginning-armstrong",
   "metadata": {},
   "outputs": [],
   "source": []
  },
  {
   "cell_type": "code",
   "execution_count": null,
   "id": "bacterial-arrival",
   "metadata": {},
   "outputs": [],
   "source": []
  },
  {
   "cell_type": "code",
   "execution_count": null,
   "id": "appropriate-great",
   "metadata": {},
   "outputs": [],
   "source": []
  },
  {
   "cell_type": "code",
   "execution_count": null,
   "id": "distinct-learning",
   "metadata": {},
   "outputs": [],
   "source": []
  },
  {
   "cell_type": "code",
   "execution_count": null,
   "id": "integral-armor",
   "metadata": {},
   "outputs": [],
   "source": []
  },
  {
   "cell_type": "code",
   "execution_count": null,
   "id": "verified-panama",
   "metadata": {},
   "outputs": [],
   "source": []
  },
  {
   "cell_type": "code",
   "execution_count": null,
   "id": "characteristic-convenience",
   "metadata": {},
   "outputs": [],
   "source": [
    "tokenizer=Tokenizer()\n",
    "tokenizer.fit_on_texts(documents_df.documents_cleaned)\n",
    "tokenized_documents=tokenizer.texts_to_sequences(documents_df.documents_cleaned)\n",
    "tokenized_paded_documents=pad_sequences(tokenized_documents,maxlen=64,padding='post')\n",
    "vocab_size=len(tokenizer.word_index)+1\n",
    "\n",
    "# reading Glove word embeddings into a dictionary with \"word\" as key and values as word vectors\n",
    "embeddings_index = dict()\n",
    "\n",
    "with open('glove.6B.100d.txt','r',encoding='utf-8') as file:\n",
    "    for line in file:\n",
    "        values = line.split()\n",
    "        word = values[0]\n",
    "        coefs = np.asarray(values[1:], dtype='float32')\n",
    "        embeddings_index[word] = coefs"
   ]
  },
  {
   "cell_type": "code",
   "execution_count": null,
   "id": "processed-closer",
   "metadata": {},
   "outputs": [],
   "source": []
  },
  {
   "cell_type": "code",
   "execution_count": null,
   "id": "acquired-lindsay",
   "metadata": {},
   "outputs": [],
   "source": [
    "import numpy as np\n",
    "\n",
    "\n",
    "class DocSim:\n",
    "    def __init__(self, w2v_model, stopwords=None):\n",
    "        self.w2v_model = w2v_model\n",
    "        self.stopwords = stopwords if stopwords is not None else []\n",
    "\n",
    "    def vectorize(self, doc: str) -> np.ndarray:\n",
    "        doc = doc.lower()\n",
    "        words = [w for w in doc.split(\" \") if w not in self.stopwords]\n",
    "        word_vecs = []\n",
    "        for word in words:\n",
    "            try:\n",
    "                vec = self.w2v_model[word]\n",
    "                word_vecs.append(vec)\n",
    "            except KeyError:\n",
    "                # Ignore, if the word doesn't exist in the vocabulary\n",
    "                pass\n",
    "\n",
    "        # Assuming that document vector is the mean of all the word vectors\n",
    "        # PS: There are other & better ways to do it.\n",
    "        vector = np.mean(word_vecs, axis=0)\n",
    "        return vector\n",
    "\n",
    "    def _cosine_sim(self, vecA, vecB):\n",
    "        \"\"\"Find the cosine similarity distance between two vectors.\"\"\"\n",
    "        csim = np.dot(vecA, vecB) / (np.linalg.norm(vecA) * np.linalg.norm(vecB))\n",
    "        if np.isnan(np.sum(csim)):\n",
    "            return 0\n",
    "        return csim\n",
    "\n",
    "    def calculate_similarity(self, source_doc, target_docs=None, threshold=0):\n",
    "        \"\"\"Calculates & returns similarity scores between given source document & all\n",
    "        the target documents.\"\"\"\n",
    "        if not target_docs:\n",
    "            return []\n",
    "\n",
    "        if isinstance(target_docs, str):\n",
    "            target_docs = [target_docs]\n",
    "\n",
    "        source_vec = self.vectorize(source_doc)\n",
    "        results = []\n",
    "        for doc in target_docs:\n",
    "            target_vec = self.vectorize(doc)\n",
    "            sim_score = self._cosine_sim(source_vec, target_vec)\n",
    "            if sim_score > threshold:\n",
    "                results.append({\"score\": sim_score, \"doc\": doc})\n",
    "            # Sort results by score in desc order\n",
    "            results.sort(key=lambda k: k[\"score\"], reverse=True)\n",
    "\n",
    "        return results"
   ]
  },
  {
   "cell_type": "code",
   "execution_count": null,
   "id": "stable-nutrition",
   "metadata": {},
   "outputs": [],
   "source": [
    "ds = DocSim(model_w2v)\n",
    "\n",
    "# ds = DocSim(embeddings_index)\n",
    "\n",
    "source_doc = fst_caption\n",
    "target_docs = documents[1:]\n",
    "\n",
    "sim_scores = ds.calculate_similarity(source_doc, target_docs)\n",
    "\n",
    "print(fst_caption)\n",
    "print(sim_scores)"
   ]
  },
  {
   "cell_type": "code",
   "execution_count": null,
   "id": "capital-nickname",
   "metadata": {},
   "outputs": [],
   "source": []
  },
  {
   "cell_type": "code",
   "execution_count": null,
   "id": "fourth-netscape",
   "metadata": {},
   "outputs": [],
   "source": []
  },
  {
   "cell_type": "code",
   "execution_count": null,
   "id": "contemporary-breakfast",
   "metadata": {},
   "outputs": [],
   "source": []
  },
  {
   "cell_type": "code",
   "execution_count": null,
   "id": "bored-thinking",
   "metadata": {},
   "outputs": [],
   "source": []
  },
  {
   "cell_type": "code",
   "execution_count": null,
   "id": "romance-carry",
   "metadata": {},
   "outputs": [],
   "source": []
  },
  {
   "cell_type": "code",
   "execution_count": null,
   "id": "hungry-heating",
   "metadata": {},
   "outputs": [],
   "source": []
  },
  {
   "cell_type": "code",
   "execution_count": null,
   "id": "intense-crawford",
   "metadata": {},
   "outputs": [],
   "source": []
  },
  {
   "cell_type": "code",
   "execution_count": null,
   "id": "wired-breed",
   "metadata": {},
   "outputs": [],
   "source": []
  },
  {
   "cell_type": "code",
   "execution_count": null,
   "id": "cosmetic-classics",
   "metadata": {},
   "outputs": [],
   "source": []
  },
  {
   "cell_type": "code",
   "execution_count": null,
   "id": "entertaining-brand",
   "metadata": {},
   "outputs": [],
   "source": []
  }
 ],
 "metadata": {
  "kernelspec": {
   "display_name": "Python 3",
   "language": "python",
   "name": "python3"
  },
  "language_info": {
   "codemirror_mode": {
    "name": "ipython",
    "version": 3
   },
   "file_extension": ".py",
   "mimetype": "text/x-python",
   "name": "python",
   "nbconvert_exporter": "python",
   "pygments_lexer": "ipython3",
   "version": "3.8.5"
  }
 },
 "nbformat": 4,
 "nbformat_minor": 5
}
